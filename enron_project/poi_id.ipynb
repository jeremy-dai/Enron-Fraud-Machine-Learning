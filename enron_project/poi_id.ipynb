{
 "cells": [
  {
   "cell_type": "markdown",
   "metadata": {},
   "source": [
    "# Identify Fraud from Enron Email\n",
    "## Y. Jeremy Dai\n",
    "\n",
    "This is an effort to practice my skills learnt from Intro to Machine Learning(Udacity) by building an algorithm to identify Enron Employees who may have committed fraud based on the public Enron financial and email dataset.\n",
    "\n",
    "## Intro\n",
    "One of largest companies in the US, Enron, collapsed into bankruptcy all of a sudden in 2000. This project is to build a person of interest (POI) identifier based on financial and email data made public as a result of the Enron scandal. A list of POI, who were indicted, reached a settlement or plea deal with the government, or testified in exchange for prosecution immunity, is provided by Udacity for supervised machine learning.\n",
    "\n",
    "## Exploring the data"
   ]
  },
  {
   "cell_type": "code",
   "execution_count": 147,
   "metadata": {},
   "outputs": [
    {
     "name": "stdout",
     "output_type": "stream",
     "text": [
      "Number of Poeple in the sample:  146\n",
      "Number of POI:  18\n",
      "There are 20 features available.\n"
     ]
    }
   ],
   "source": [
    "import sys\n",
    "import pickle\n",
    "import numpy\n",
    "import seaborn as sns\n",
    "import matplotlib.pyplot as plt\n",
    "import pandas as pd\n",
    "import numpy as np\n",
    "from time import time\n",
    "%matplotlib inline\n",
    "import tester\n",
    "\n",
    "sys.path.append(\"../tools/\")\n",
    "\n",
    "#from feature_format import featureFormat, targetFeatureSplit\n",
    "\n",
    "\n",
    "### Load the dictionary containing the dataset\n",
    "with open(\"final_project_dataset.pkl\", \"r\") as data_file:\n",
    "    data_dict = pickle.load(data_file)\n",
    "    \n",
    "### Data Exploration\n",
    "### Check number of samples and POI\n",
    "print 'Number of Poeple in the sample: ',len(data_dict)\n",
    "\n",
    "n = 0\n",
    "for person_name in data_dict:\n",
    "    if data_dict[person_name][\"poi\"]==1:\n",
    "        n+=1\n",
    "print 'Number of POI: ',n\n",
    "    \n",
    "### Create a dataframe based on data_dict, drop the 'email_address' column\n",
    "enron=pd.DataFrame.from_dict(data_dict, orient='index')\n",
    "enron=enron.drop('email_address',axis=1) \n",
    "print 'There are',enron.shape[1],'features available.'"
   ]
  },
  {
   "cell_type": "code",
   "execution_count": 148,
   "metadata": {},
   "outputs": [
    {
     "name": "stdout",
     "output_type": "stream",
     "text": [
      "\n",
      "Total number of NaN values in the dataset: 1323\n",
      "\n",
      "Top five features with most NaN values in the dataset:\n",
      "loan_advances                142\n",
      "director_fees                129\n",
      "restricted_stock_deferred    128\n",
      "deferral_payments            107\n",
      "deferred_income               97\n",
      "dtype: int64\n"
     ]
    }
   ],
   "source": [
    "### Check the NaN values\n",
    "enron=enron.replace('NaN',np.nan)\n",
    "enron_nan=enron.isnull().sum()\n",
    "enron_nan.sort_values(ascending=False, inplace=True)\n",
    "print '\\nTotal number of NaN values in the dataset:',enron_nan.sum()\n",
    "print '\\nTop five features with most NaN values in the dataset:'\n",
    "print enron_nan[:5]"
   ]
  },
  {
   "cell_type": "code",
   "execution_count": 149,
   "metadata": {},
   "outputs": [
    {
     "name": "stdout",
     "output_type": "stream",
     "text": [
      "loan_advances is NaN: there are 17 POI\n",
      "loan_advances is NOT NaN: there are 1 POI\n",
      "The ratio of POI in NaN value is 0.944444444444\n",
      "The ratio of NaN for loan_advances is 0.972602739726 \n",
      "\n",
      "director_fees is NaN: there are 18 POI\n",
      "director_fees is NOT NaN: there are 0 POI\n",
      "The ratio of POI in NaN value is 1.0\n",
      "The ratio of NaN for director_fees is 0.883561643836 \n",
      "\n",
      "restricted_stock_deferred is NaN: there are 18 POI\n",
      "restricted_stock_deferred is NOT NaN: there are 0 POI\n",
      "The ratio of POI in NaN value is 1.0\n",
      "The ratio of NaN for restricted_stock_deferred is 0.876712328767 \n",
      "\n",
      "deferral_payments is NaN: there are 13 POI\n",
      "deferral_payments is NOT NaN: there are 5 POI\n",
      "The ratio of POI in NaN value is 0.722222222222\n",
      "The ratio of NaN for deferral_payments is 0.732876712329 \n",
      "\n",
      "deferred_income is NaN: there are 7 POI\n",
      "deferred_income is NOT NaN: there are 11 POI\n",
      "The ratio of POI in NaN value is 0.388888888889\n",
      "The ratio of NaN for deferred_income is 0.664383561644 \n",
      "\n"
     ]
    }
   ],
   "source": [
    "for f in enron_nan[:5].index:\n",
    "    yes = enron[enron[f].isnull()]['poi'].sum()\n",
    "    no = enron[~enron[f].isnull()]['poi'].sum()\n",
    "    print f,'is NaN: there are',yes,'POI'\n",
    "    print f,'is NOT NaN: there are',no,'POI'\n",
    "    print 'The ratio of POI in NaN value is', float(yes)/(yes+no)\n",
    "    print 'The ratio of NaN for',f,'is',float(enron_nan[f])/146,'\\n'"
   ]
  },
  {
   "cell_type": "markdown",
   "metadata": {},
   "source": [
    "For the top five features with most NaN values in the dataset, we cannot simply remove them since if POI is with NaN value or not for some of these feature does not seem random. We will replace them with 0."
   ]
  },
  {
   "cell_type": "code",
   "execution_count": 150,
   "metadata": {},
   "outputs": [
    {
     "data": {
      "image/png": "[encoded data removed]",
      "text/plain": [
       "<matplotlib.figure.Figure at 0x11944ed90>"
      ]
     },
     "metadata": {},
     "output_type": "display_data"
    },
    {
     "name": "stdout",
     "output_type": "stream",
     "text": [
      "The sample with biggest salary is: ['TOTAL']\n"
     ]
    }
   ],
   "source": [
    "### use visulization to find outliers\n",
    "enron.fillna(0,inplace=True)\n",
    "\n",
    "for i, j in enron[['salary','bonus']].values:\n",
    "    plt.scatter(i,j)\n",
    "\n",
    "plt.xlabel('salary')\n",
    "plt.ylabel('bonus')\n",
    "plt.show()\n",
    "\n",
    "print 'The sample with biggest salary is:', list(enron.sort_values(ascending=False, by='salary')[:1].index)"
   ]
  },
  {
   "cell_type": "markdown",
   "metadata": {},
   "source": [
    "This is definitely a outlier are we are going to remove it."
   ]
  },
  {
   "cell_type": "code",
   "execution_count": 151,
   "metadata": {
    "collapsed": true
   },
   "outputs": [],
   "source": [
    "### Remove the clear outlier : 'Total'\n",
    "try:\n",
    "    enron=enron.drop('TOTAL') \n",
    "except:\n",
    "    pass"
   ]
  },
  {
   "cell_type": "markdown",
   "metadata": {},
   "source": [
    "## Create new features"
   ]
  },
  {
   "cell_type": "code",
   "execution_count": 152,
   "metadata": {},
   "outputs": [
    {
     "name": "stdout",
     "output_type": "stream",
     "text": [
      "Create a new feature summing up payments and stocks\n",
      "Create a new feature of the percentage of person's emails to POI to all sent emails\n",
      "Create a new feature of the percentage of person's emails from POI to all received emails\n"
     ]
    }
   ],
   "source": [
    "### Reset columns\n",
    "features_list = ['poi',\n",
    "        'salary','bonus', 'deferral_payments', 'deferred_income', 'director_fees',\n",
    "        'expenses', 'loan_advances', 'long_term_incentive', 'other', 'total_payments',\n",
    "        'restricted_stock', 'restricted_stock_deferred',\n",
    "        'exercised_stock_options','total_stock_value',\n",
    "        'to_messages','from_messages','shared_receipt_with_poi',\n",
    "        'from_poi_to_this_person', 'from_this_person_to_poi',]\n",
    "\n",
    "enron=enron.reindex_axis(features_list, axis=1)\n",
    "\n",
    "print 'Create a new feature summing up payments and stocks'\n",
    "enron['total_finance']=enron['total_payments']+enron['total_stock_value']\n",
    "\n",
    "print 'Create a new feature of the percentage of person\\'s emails to POI to all sent emails'\n",
    "enron['p_poi_to_msg']=1.0*enron['from_this_person_to_poi']/enron['to_messages']\n",
    "\n",
    "print 'Create a new feature of the percentage of person\\'s emails from POI to all received emails'\n",
    "enron['p_poi_from_msg']=1.0*enron['from_poi_to_this_person']/enron['from_messages']\n",
    "\n",
    "enron=enron.fillna(0)\n",
    "\n",
    "### check the columns\n",
    "enron.iloc[:5, 20:23]\n",
    "\n",
    "### update the feature list\n",
    "features_list = list(enron.columns)"
   ]
  },
  {
   "cell_type": "code",
   "execution_count": 153,
   "metadata": {},
   "outputs": [
    {
     "data": {
      "text/html": [
       "<div>\n",
       "<style>\n",
       "    .dataframe thead tr:only-child th {\n",
       "        text-align: right;\n",
       "    }\n",
       "\n",
       "    .dataframe thead th {\n",
       "        text-align: left;\n",
       "    }\n",
       "\n",
       "    .dataframe tbody tr th {\n",
       "        vertical-align: top;\n",
       "    }\n",
       "</style>\n",
       "<table border=\"1\" class=\"dataframe\">\n",
       "  <thead>\n",
       "    <tr style=\"text-align: right;\">\n",
       "      <th></th>\n",
       "      <th>poi</th>\n",
       "      <th>salary</th>\n",
       "      <th>bonus</th>\n",
       "      <th>deferral_payments</th>\n",
       "      <th>deferred_income</th>\n",
       "      <th>director_fees</th>\n",
       "      <th>expenses</th>\n",
       "      <th>loan_advances</th>\n",
       "      <th>long_term_incentive</th>\n",
       "      <th>other</th>\n",
       "      <th>...</th>\n",
       "      <th>exercised_stock_options</th>\n",
       "      <th>total_stock_value</th>\n",
       "      <th>to_messages</th>\n",
       "      <th>from_messages</th>\n",
       "      <th>shared_receipt_with_poi</th>\n",
       "      <th>from_poi_to_this_person</th>\n",
       "      <th>from_this_person_to_poi</th>\n",
       "      <th>total_finance</th>\n",
       "      <th>p_poi_to_msg</th>\n",
       "      <th>p_poi_from_msg</th>\n",
       "    </tr>\n",
       "  </thead>\n",
       "  <tbody>\n",
       "    <tr>\n",
       "      <th>CHAN RONNIE</th>\n",
       "      <td>False</td>\n",
       "      <td>0.0</td>\n",
       "      <td>0.0</td>\n",
       "      <td>0.0</td>\n",
       "      <td>-98784.0</td>\n",
       "      <td>98784.0</td>\n",
       "      <td>0.0</td>\n",
       "      <td>0.0</td>\n",
       "      <td>0.0</td>\n",
       "      <td>0.0</td>\n",
       "      <td>...</td>\n",
       "      <td>0.0</td>\n",
       "      <td>0.0</td>\n",
       "      <td>0.0</td>\n",
       "      <td>0.0</td>\n",
       "      <td>0.0</td>\n",
       "      <td>0.0</td>\n",
       "      <td>0.0</td>\n",
       "      <td>0.0</td>\n",
       "      <td>0.0</td>\n",
       "      <td>0.0</td>\n",
       "    </tr>\n",
       "    <tr>\n",
       "      <th>LOCKHART EUGENE E</th>\n",
       "      <td>False</td>\n",
       "      <td>0.0</td>\n",
       "      <td>0.0</td>\n",
       "      <td>0.0</td>\n",
       "      <td>0.0</td>\n",
       "      <td>0.0</td>\n",
       "      <td>0.0</td>\n",
       "      <td>0.0</td>\n",
       "      <td>0.0</td>\n",
       "      <td>0.0</td>\n",
       "      <td>...</td>\n",
       "      <td>0.0</td>\n",
       "      <td>0.0</td>\n",
       "      <td>0.0</td>\n",
       "      <td>0.0</td>\n",
       "      <td>0.0</td>\n",
       "      <td>0.0</td>\n",
       "      <td>0.0</td>\n",
       "      <td>0.0</td>\n",
       "      <td>0.0</td>\n",
       "      <td>0.0</td>\n",
       "    </tr>\n",
       "    <tr>\n",
       "      <th>POWERS WILLIAM</th>\n",
       "      <td>False</td>\n",
       "      <td>0.0</td>\n",
       "      <td>0.0</td>\n",
       "      <td>0.0</td>\n",
       "      <td>-17500.0</td>\n",
       "      <td>17500.0</td>\n",
       "      <td>0.0</td>\n",
       "      <td>0.0</td>\n",
       "      <td>0.0</td>\n",
       "      <td>0.0</td>\n",
       "      <td>...</td>\n",
       "      <td>0.0</td>\n",
       "      <td>0.0</td>\n",
       "      <td>653.0</td>\n",
       "      <td>26.0</td>\n",
       "      <td>12.0</td>\n",
       "      <td>0.0</td>\n",
       "      <td>0.0</td>\n",
       "      <td>0.0</td>\n",
       "      <td>0.0</td>\n",
       "      <td>0.0</td>\n",
       "    </tr>\n",
       "  </tbody>\n",
       "</table>\n",
       "<p>3 rows × 23 columns</p>\n",
       "</div>"
      ],
      "text/plain": [
       "                     poi  salary  bonus  deferral_payments  deferred_income  \\\n",
       "CHAN RONNIE        False     0.0    0.0                0.0         -98784.0   \n",
       "LOCKHART EUGENE E  False     0.0    0.0                0.0              0.0   \n",
       "POWERS WILLIAM     False     0.0    0.0                0.0         -17500.0   \n",
       "\n",
       "                   director_fees  expenses  loan_advances  \\\n",
       "CHAN RONNIE              98784.0       0.0            0.0   \n",
       "LOCKHART EUGENE E            0.0       0.0            0.0   \n",
       "POWERS WILLIAM           17500.0       0.0            0.0   \n",
       "\n",
       "                   long_term_incentive  other       ...        \\\n",
       "CHAN RONNIE                        0.0    0.0       ...         \n",
       "LOCKHART EUGENE E                  0.0    0.0       ...         \n",
       "POWERS WILLIAM                     0.0    0.0       ...         \n",
       "\n",
       "                   exercised_stock_options  total_stock_value  to_messages  \\\n",
       "CHAN RONNIE                            0.0                0.0          0.0   \n",
       "LOCKHART EUGENE E                      0.0                0.0          0.0   \n",
       "POWERS WILLIAM                         0.0                0.0        653.0   \n",
       "\n",
       "                   from_messages  shared_receipt_with_poi  \\\n",
       "CHAN RONNIE                  0.0                      0.0   \n",
       "LOCKHART EUGENE E            0.0                      0.0   \n",
       "POWERS WILLIAM              26.0                     12.0   \n",
       "\n",
       "                   from_poi_to_this_person  from_this_person_to_poi  \\\n",
       "CHAN RONNIE                            0.0                      0.0   \n",
       "LOCKHART EUGENE E                      0.0                      0.0   \n",
       "POWERS WILLIAM                         0.0                      0.0   \n",
       "\n",
       "                   total_finance  p_poi_to_msg  p_poi_from_msg  \n",
       "CHAN RONNIE                  0.0           0.0             0.0  \n",
       "LOCKHART EUGENE E            0.0           0.0             0.0  \n",
       "POWERS WILLIAM               0.0           0.0             0.0  \n",
       "\n",
       "[3 rows x 23 columns]"
      ]
     },
     "execution_count": 153,
     "metadata": {},
     "output_type": "execute_result"
    }
   ],
   "source": [
    "enron[enron['total_finance']==0]"
   ]
  },
  {
   "cell_type": "markdown",
   "metadata": {},
   "source": [
    "There is a row with no entry:'LOCKHART EUGENE E'. It will be removed."
   ]
  },
  {
   "cell_type": "code",
   "execution_count": 154,
   "metadata": {},
   "outputs": [
    {
     "name": "stdout",
     "output_type": "stream",
     "text": [
      "16 of 79 people whose salary is larger than the average are POI\n"
     ]
    }
   ],
   "source": [
    "### Remove 'LOCKHART EUGENE E' Row\n",
    "\n",
    "try:\n",
    "    enron=enron.drop('LOCKHART EUGENE E') \n",
    "except:\n",
    "    pass\n",
    "\n",
    "### Check other outliers\n",
    "ave=enron['salary'].mean()\n",
    "poi_h_salary=enron['poi'][enron['salary']>ave]\n",
    "\n",
    "print '{} of {} people whose salary is larger than the average are POI'.format(sum(poi_h_salary), len(poi_h_salary))"
   ]
  },
  {
   "cell_type": "markdown",
   "metadata": {},
   "source": [
    "We cannot simply remove these people. It seems that POI tends to have salary higher than the average. \n",
    "\n",
    "Next, we will select features for training.\n",
    "\n",
    "## Select features"
   ]
  },
  {
   "cell_type": "code",
   "execution_count": 155,
   "metadata": {},
   "outputs": [
    {
     "name": "stdout",
     "output_type": "stream",
     "text": [
      "70% of data is used for training and the remaining 30% is used for test.\n",
      "The evaluation results:\n",
      "             precision    recall  f1-score   support\n",
      "\n",
      "    Not POI       0.90      0.95      0.92        39\n",
      "        POI       0.33      0.20      0.25         5\n",
      "\n",
      "avg / total       0.84      0.86      0.85        44\n",
      "\n",
      "[[37  2]\n",
      " [ 4  1]]\n",
      "\n",
      "The important features are:\n",
      "0.220426513942 salary\n",
      "0.136188597727 deferral_payments\n",
      "0.105863661155 director_fees\n",
      "0.132625994695 loan_advances\n",
      "0.168173897756 total_payments\n",
      "0.0736811081639 restricted_stock_deferred\n",
      "0.0757862826828 to_messages\n",
      "0.0114676611954 from_poi_to_this_person\n",
      "0.0757862826828 p_poi_to_msg\n"
     ]
    }
   ],
   "source": [
    "### Test the created features use Decision Tree\n",
    "\n",
    "from sklearn.metrics import classification_report\n",
    "from sklearn.metrics import confusion_matrix\n",
    "from sklearn import tree\n",
    "from sklearn.cross_validation import train_test_split\n",
    "\n",
    "features=enron.iloc[:,1:].values\n",
    "labels=enron.iloc[:,:1].values\n",
    "\n",
    "### Split the data into training and test\n",
    "print '70% of data is used for training and the remaining 30% is used for test.'\n",
    "feature_train, feature_test, label_train, label_test =\\\n",
    "train_test_split(features, labels,test_size=0.3, random_state=42)\n",
    "\n",
    "clf = tree.DecisionTreeClassifier(random_state = 39) \n",
    "\n",
    "### Create the function to train and output the evaluation results\n",
    "def test(clf):\n",
    "    clf.fit(feature_train, label_train)\n",
    "    label_pred = clf.predict(feature_test)\n",
    "    ### Quantitative evaluation of the model quality on the test set\n",
    "    print 'The evaluation results:'\n",
    "    print classification_report(label_test, label_pred,target_names=['Not POI','POI'])\n",
    "    print confusion_matrix(label_test, label_pred)   \n",
    "    \n",
    "test(clf)\n",
    "\n",
    "print '\\nThe important features are:'\n",
    "fea=clf.feature_importances_\n",
    "n=0\n",
    "for f in fea:\n",
    "    if f>0.0:\n",
    "        print f,features_list[n]\n",
    "    n+=1"
   ]
  },
  {
   "cell_type": "markdown",
   "metadata": {},
   "source": [
    "Since we have an imbalanced sample with much more non-POI than POI, both recall and precision rate are important in evaluation.\n",
    "\n",
    "In this study, we will utilize the classification_report and confusion_matrix to generate precision rate, recall rate.\n",
    "\n",
    "- Recall = True Positive / (True Positive + False Negative). \n",
    "- Precision=True Positive / (True Positive + False Positive). \n",
    "\n",
    "For the above test:\n",
    "Recall:\n",
    "- Out of 5 POI, only 1 POI were correctly classified correctly. \n",
    "- Out of 39 Non-POI, 37 of them were 'recalled' from the dataset.\n",
    "\n",
    "Precision:\n",
    "- Out of 3 ‘selected’ POI, only 1 of them are true POI.\n",
    "- Out of 41 ‘selected’ non-POI, only 37 of them are true non-POI.\n",
    "\n",
    "\n",
    "Depending on the random_state, sometimes the new created features are the important ones while sometimes they are not. We will try Naive Bayes next."
   ]
  },
  {
   "cell_type": "code",
   "execution_count": 156,
   "metadata": {},
   "outputs": [
    {
     "name": "stdout",
     "output_type": "stream",
     "text": [
      "Without new created features\n",
      "The evaluation results:\n",
      "             precision    recall  f1-score   support\n",
      "\n",
      "    Not POI       0.93      0.95      0.94        39\n",
      "        POI       0.50      0.40      0.44         5\n",
      "\n",
      "avg / total       0.88      0.89      0.88        44\n",
      "\n",
      "[[37  2]\n",
      " [ 3  2]]\n",
      "\n",
      "With new created features:\n",
      "The evaluation results:\n",
      "             precision    recall  f1-score   support\n",
      "\n",
      "    Not POI       0.93      0.97      0.95        39\n",
      "        POI       0.67      0.40      0.50         5\n",
      "\n",
      "avg / total       0.90      0.91      0.90        44\n",
      "\n",
      "[[38  1]\n",
      " [ 3  2]]\n"
     ]
    }
   ],
   "source": [
    "### Naive_Bayes\n",
    "from sklearn.naive_bayes import GaussianNB\n",
    "clf=GaussianNB()\n",
    "\n",
    "print 'Without new created features'\n",
    "\n",
    "### Limit the features\n",
    "features=enron.iloc[:,1:20].values\n",
    "labels=enron.iloc[:,:1].values\n",
    "\n",
    "feature_train, feature_test, label_train, label_test =\\\n",
    "train_test_split(features, labels,test_size=0.3, random_state=42)\n",
    "    \n",
    "test(clf)\n",
    "\n",
    "print '\\nWith new created features:'\n",
    "\n",
    "# Change the features list back with new added features\n",
    "features=enron.iloc[:,1:].values\n",
    "labels=enron.iloc[:,:1].values\n",
    "\n",
    "feature_train, feature_test, label_train, label_test =\\\n",
    "train_test_split(features, labels,test_size=0.3, random_state=42)\n",
    "\n",
    "test(clf)"
   ]
  },
  {
   "cell_type": "markdown",
   "metadata": {},
   "source": [
    "Based on this test, the new features improved the recall rate for Non-POI. We will include the new features in the following study. \n",
    "\n",
    "We are going to use three machine learning algorithms:\n",
    "\n",
    "- Naive Bayes\n",
    "- SVC\n",
    "- Decision Tree Classifier\n",
    "\n",
    "## Pick and Tune the Algorithms\n",
    "\n",
    "An algorithm may be highly sensitive to some of its features. The choose of good parameters may have a dominant effect on the algorithm performance. \n",
    "\n",
    "For example, parameter C plays an important role in SVC algorithm. This parameter is a tradeoff between smooth decision boundary and classifying training points correctly. If it is too low, the algorithm will pay little attention to data and lead to high error on training data. However, if it is too high, it will classify all training examples correctly by providing a really weird boundary. This leads to overfitting and results in high error on testing data.\n",
    "\n",
    "In this study, we use GridSearchCV to fine tune the algorithm. I start with default parameters and level it up and down. Based on the GridSearchCV function I will adjust the parameters again. For example, if the GridSearchCV chooses the smallest value for the parameter, I will add a smaller number in the search list."
   ]
  },
  {
   "cell_type": "code",
   "execution_count": 157,
   "metadata": {
    "collapsed": true
   },
   "outputs": [],
   "source": [
    "\n",
    "from sklearn.pipeline import Pipeline\n",
    "from sklearn.preprocessing import StandardScaler\n",
    "from sklearn.decomposition import PCA\n",
    "from sklearn.model_selection import GridSearchCV\n",
    "from sklearn.model_selection import StratifiedShuffleSplit\n",
    "from sklearn.feature_selection import SelectKBest\n",
    "\n",
    "\n",
    "cv = StratifiedShuffleSplit(test_size=0.3, random_state=42)\n",
    "\n",
    "### Store to my_dataset for easy export below.\n",
    "my_dataset = enron.to_dict(orient = 'index')\n",
    "\n",
    "### Define a function using PCA\n",
    "def find_fit_pca(model, param_grid=[{}]):\n",
    "    estimators = [\n",
    "    ('scaler',StandardScaler()),\n",
    "    ('reduce_dim', PCA(svd_solver='randomized')),\n",
    "    model]\n",
    "    pipe = Pipeline(estimators)\n",
    "    clf = GridSearchCV(pipe, param_grid=param_grid,cv=cv,scoring='f1')\n",
    "    clf = clf.fit(feature_train, label_train)\n",
    "    return clf.best_estimator_\n",
    "\n",
    "### Define a function using SelectKBest\n",
    "def find_fit_select_k(model, param_grid=[{}]):\n",
    "    estimators = [\n",
    "    ('scaler',StandardScaler()),\n",
    "    ('reduce_dim', SelectKBest()),\n",
    "    model]\n",
    "    pipe = Pipeline(estimators)\n",
    "    clf = GridSearchCV(pipe, param_grid=param_grid,cv=cv,scoring='f1')\n",
    "    clf = clf.fit(feature_train, label_train)\n",
    "    return clf.best_estimator_"
   ]
  },
  {
   "cell_type": "markdown",
   "metadata": {},
   "source": [
    "Pipelines are used for multi-stage operations.\n",
    "\n",
    "StratifiedShuffleSplit is used to for GridSearchCV to find best parameters. Since we have a very imbalanced sample with limited samples, it is easier to have problems like overfitting. To avoid such problem, StratifiedShuffleSplit function will be a good way to rotate training and testing groups and limit the overfitting problem.\n",
    "\n"
   ]
  },
  {
   "cell_type": "code",
   "execution_count": 158,
   "metadata": {},
   "outputs": [
    {
     "name": "stdout",
     "output_type": "stream",
     "text": [
      "The evaluation results for Gaussian Naive Bayes with PCA:\n",
      "Pipeline(steps=[('scaler', StandardScaler(copy=True, with_mean=True, with_std=True)), ('reduce_dim', PCA(copy=True, iterated_power='auto', n_components=2, random_state=None,\n",
      "  svd_solver='randomized', tol=0.0, whiten=False)), ('clf', GaussianNB(priors=None))])\n",
      "\tAccuracy: 0.84767\tPrecision: 0.39261\tRecall: 0.26050\tF1: 0.31320\tF2: 0.27930\n",
      "\tTotal predictions: 15000\tTrue positives:  521\tFalse positives:  806\tFalse negatives: 1479\tTrue negatives: 12194\n",
      "\n",
      "\n",
      "The evaluation results for Gaussian Naive Bayes with SelectKBest:\n",
      "Pipeline(steps=[('scaler', StandardScaler(copy=True, with_mean=True, with_std=True)), ('reduce_dim', SelectKBest(k=5, score_func=<function f_classif at 0x116b40668>)), ('clf', GaussianNB(priors=None))])\n",
      "\tAccuracy: 0.85767\tPrecision: 0.45386\tRecall: 0.33200\tF1: 0.38348\tF2: 0.35084\n",
      "\tTotal predictions: 15000\tTrue positives:  664\tFalse positives:  799\tFalse negatives: 1336\tTrue negatives: 12201\n",
      "\n"
     ]
    }
   ],
   "source": [
    "### Gaussian Naive Bayes\n",
    "from sklearn.naive_bayes import GaussianNB\n",
    "\n",
    "model=('clf', GaussianNB())\n",
    "\n",
    "param_grid = dict(reduce_dim__n_components=range(2, 10))\n",
    "\n",
    "print 'The evaluation results for Gaussian Naive Bayes with PCA:'\n",
    "clf_nb_pca=find_fit_pca(model,param_grid)\n",
    "tester.dump_classifier_and_data(clf_nb_pca, my_dataset, features_list)\n",
    "tester.main()\n",
    "\n",
    "param_grid = dict(reduce_dim__k=range(3, 10))\n",
    "\n",
    "print '\\nThe evaluation results for Gaussian Naive Bayes with SelectKBest:'\n",
    "clf_nb_k=find_fit_select_k(model,param_grid)\n",
    "tester.dump_classifier_and_data(clf_nb_k, my_dataset, features_list)\n",
    "tester.main()"
   ]
  },
  {
   "cell_type": "code",
   "execution_count": 159,
   "metadata": {},
   "outputs": [
    {
     "name": "stdout",
     "output_type": "stream",
     "text": [
      "The evaluation results for SVC with PCA:\n",
      "Got a divide by zero when trying out: Pipeline(steps=[('scaler', StandardScaler(copy=True, with_mean=True, with_std=True)), ('reduce_dim', PCA(copy=True, iterated_power='auto', n_components=2, random_state=None,\n",
      "  svd_solver='randomized', tol=0.0, whiten=False)), ('clf', SVC(C=1e-20, cache_size=200, class_weight=None, coef0=0.0,\n",
      "  decision_function_shape=None, degree=3, gamma=1e-30, kernel='rbf',\n",
      "  max_iter=-1, probability=False, random_state=None, shrinking=True,\n",
      "  tol=0.001, verbose=False))])\n",
      "Precision or recall may be undefined due to a lack of true positive predicitons.\n",
      "\n",
      "The evaluation results for SVC with SelectKBest:\n",
      "Got a divide by zero when trying out: Pipeline(steps=[('scaler', StandardScaler(copy=True, with_mean=True, with_std=True)), ('reduce_dim', SelectKBest(k=2, score_func=<function f_classif at 0x116b40668>)), ('clf', SVC(C=1e-20, cache_size=200, class_weight=None, coef0=0.0,\n",
      "  decision_function_shape=None, degree=3, gamma=1e-30, kernel='rbf',\n",
      "  max_iter=-1, probability=False, random_state=None, shrinking=True,\n",
      "  tol=0.001, verbose=False))])\n",
      "Precision or recall may be undefined due to a lack of true positive predicitons.\n"
     ]
    }
   ],
   "source": [
    "### SVC\n",
    "from sklearn.svm import SVC\n",
    "\n",
    "model=('clf', SVC())\n",
    "\n",
    "param_grid = dict(reduce_dim__n_components=[2, 5, 10],\n",
    "                  clf__C=[1e-20, 1e-10, 0.1],\n",
    "                  clf__gamma=[1e-30, 1e-15, 0.1])\n",
    "\n",
    "print 'The evaluation results for SVC with PCA:'\n",
    "clf_svc_pca=find_fit_pca(model,param_grid)\n",
    "### User tester function provided by Udacity to evaluate the results\n",
    "tester.dump_classifier_and_data(clf_svc_pca, my_dataset, features_list)\n",
    "tester.main()\n",
    "\n",
    "param_grid = dict(reduce_dim__k=range(2, 6),\n",
    "                  clf__C=[1e-20, 1e-10, 0.1],\n",
    "                  clf__gamma=[1e-30, 1e-15, 0.1])\n",
    "\n",
    "print '\\nThe evaluation results for SVC with SelectKBest:'\n",
    "clf_svc_k=find_fit_select_k(model,param_grid)\n",
    "### User tester function provided by Udacity to evaluate the results\n",
    "tester.dump_classifier_and_data(clf_svc_k, my_dataset, features_list)\n",
    "tester.main()"
   ]
  },
  {
   "cell_type": "code",
   "execution_count": 160,
   "metadata": {},
   "outputs": [
    {
     "name": "stdout",
     "output_type": "stream",
     "text": [
      "The evaluation results for Decision Tree with PCA:\n",
      "Pipeline(steps=[('scaler', StandardScaler(copy=True, with_mean=True, with_std=True)), ('reduce_dim', PCA(copy=True, iterated_power='auto', n_components=9, random_state=None,\n",
      "  svd_solver='randomized', tol=0.0, whiten=False)), ('clf', DecisionTreeClassifier(class_weight=None, criterion='entropy', max_depth=No...it=7, min_weight_fraction_leaf=0.0,\n",
      "            presort=False, random_state=None, splitter='best'))])\n",
      "\tAccuracy: 0.81060\tPrecision: 0.26548\tRecall: 0.23800\tF1: 0.25099\tF2: 0.24303\n",
      "\tTotal predictions: 15000\tTrue positives:  476\tFalse positives: 1317\tFalse negatives: 1524\tTrue negatives: 11683\n",
      "\n",
      "\n",
      "The evaluation results for Decision Tree with SelectKBest:\n",
      "Pipeline(steps=[('scaler', StandardScaler(copy=True, with_mean=True, with_std=True)), ('reduce_dim', SelectKBest(k=2, score_func=<function f_classif at 0x116b40668>)), ('clf', DecisionTreeClassifier(class_weight=None, criterion='entropy', max_depth=None,\n",
      "            max_features=None, max_leaf_nodes=None,\n",
      "            min_impurity_split=1e-07, min_samples_leaf=1,\n",
      "            min_samples_split=3, min_weight_fraction_leaf=0.0,\n",
      "            presort=False, random_state=None, splitter='random'))])\n",
      "\tAccuracy: 0.82707\tPrecision: 0.25332\tRecall: 0.15250\tF1: 0.19039\tF2: 0.16569\n",
      "\tTotal predictions: 15000\tTrue positives:  305\tFalse positives:  899\tFalse negatives: 1695\tTrue negatives: 12101\n",
      "\n"
     ]
    }
   ],
   "source": [
    "### Decision Tree\n",
    "from sklearn import tree\n",
    "\n",
    "model=('clf', tree.DecisionTreeClassifier())\n",
    "\n",
    "param_grid = dict(reduce_dim__n_components=range(2, 10),\n",
    "                clf__criterion=('gini','entropy'),\n",
    "              clf__splitter=('best','random'),\n",
    "              clf__min_samples_split=range(2,10))\n",
    "\n",
    "print 'The evaluation results for Decision Tree with PCA:'\n",
    "clf_tree_pca=find_fit_pca(model,param_grid)\n",
    "tester.dump_classifier_and_data(clf_tree_pca, my_dataset, features_list)\n",
    "tester.main()\n",
    "\n",
    "param_grid = dict(reduce_dim__k=range(2, 10),\n",
    "                clf__criterion=('gini','entropy'),\n",
    "              clf__splitter=('best','random'),\n",
    "              clf__min_samples_split=range(2,10))\n",
    "\n",
    "print '\\nThe evaluation results for Decision Tree with SelectKBest:'\n",
    "clf_tree_k=find_fit_select_k(model,param_grid)\n",
    "tester.dump_classifier_and_data(clf_tree_k, my_dataset, features_list)\n",
    "tester.main()"
   ]
  },
  {
   "cell_type": "markdown",
   "metadata": {},
   "source": [
    "Take the process of fine-tuning Decision Tree algorithm as an example. Two criterion -- 'gini' and 'entropy' are tried. Two types of splitter -- 'best' and 'random' are compared. And the min_samples_split can be 2,3,4,5,6,7,8,9 and 10 . Using SelectKBest,  GridSearchCV gives us the best DecisionTreeClassifier as\n",
    "(criterion='entropy', min_samples_split=4, splitter='random'))\n",
    "\n",
    "\n",
    "## Conclusion\n",
    "Before feature selection, I use StandardScaler for feature normalization. Scaling would help the feature selection since the ranges of available features vary a lot.\n",
    " \n",
    "After scaling, I tried two methods to trim down the number of features. One is Principal Component Analysis(PCA), and the other one is an automated feature selection function SelectKBest.\n",
    " \n",
    "Based on my tests, PCA does not work well combined with the models I tried. It may be because we set all the missing data to 0 and get the variations of each feature muddied."
   ]
  },
  {
   "cell_type": "code",
   "execution_count": 161,
   "metadata": {},
   "outputs": [
    {
     "name": "stdout",
     "output_type": "stream",
     "text": [
      "After running tester.py, the performance measurements are summarized in the following table:\n"
     ]
    },
    {
     "data": {
      "text/html": [
       "<div>\n",
       "<style>\n",
       "    .dataframe thead tr:only-child th {\n",
       "        text-align: right;\n",
       "    }\n",
       "\n",
       "    .dataframe thead th {\n",
       "        text-align: left;\n",
       "    }\n",
       "\n",
       "    .dataframe tbody tr th {\n",
       "        vertical-align: top;\n",
       "    }\n",
       "</style>\n",
       "<table border=\"1\" class=\"dataframe\">\n",
       "  <thead>\n",
       "    <tr style=\"text-align: right;\">\n",
       "      <th></th>\n",
       "      <th>Accuracy</th>\n",
       "      <th>Precision</th>\n",
       "      <th>Recall</th>\n",
       "      <th>F1</th>\n",
       "    </tr>\n",
       "  </thead>\n",
       "  <tbody>\n",
       "    <tr>\n",
       "      <th>Gaussian Naive Bayes with PCA</th>\n",
       "      <td>0.84393</td>\n",
       "      <td>0.38069</td>\n",
       "      <td>0.2720</td>\n",
       "      <td>0.31729</td>\n",
       "    </tr>\n",
       "    <tr>\n",
       "      <th>Gaussian Naive Bayes with SelectKBest</th>\n",
       "      <td>0.85767</td>\n",
       "      <td>0.45386</td>\n",
       "      <td>0.3320</td>\n",
       "      <td>0.38348</td>\n",
       "    </tr>\n",
       "    <tr>\n",
       "      <th>Decision Tree with PCA</th>\n",
       "      <td>0.80533</td>\n",
       "      <td>0.24586</td>\n",
       "      <td>0.2225</td>\n",
       "      <td>0.23360</td>\n",
       "    </tr>\n",
       "    <tr>\n",
       "      <th>Decision Tree with SelectKBest</th>\n",
       "      <td>0.84347</td>\n",
       "      <td>0.38642</td>\n",
       "      <td>0.2960</td>\n",
       "      <td>0.33522</td>\n",
       "    </tr>\n",
       "  </tbody>\n",
       "</table>\n",
       "</div>"
      ],
      "text/plain": [
       "                                       Accuracy  Precision  Recall       F1\n",
       "Gaussian Naive Bayes with PCA           0.84393    0.38069  0.2720  0.31729\n",
       "Gaussian Naive Bayes with SelectKBest   0.85767    0.45386  0.3320  0.38348\n",
       "Decision Tree with PCA                  0.80533    0.24586  0.2225  0.23360\n",
       "Decision Tree with SelectKBest          0.84347    0.38642  0.2960  0.33522"
      ]
     },
     "execution_count": 161,
     "metadata": {},
     "output_type": "execute_result"
    }
   ],
   "source": [
    "print 'After running tester.py, the performance measurements are summarized in the following table:'\n",
    "pd.DataFrame([[0.84393, 0.38069, 0.27200, 0.31729],\n",
    "              [0.85767, 0.45386, 0.33200, 0.38348],\n",
    "              [0.80533, 0.24586, 0.22250, 0.23360],\n",
    "              [0.84347, 0.38642, 0.29600, 0.33522]],\n",
    "             columns = ['Accuracy','Precision', 'Recall', 'F1'], \n",
    "             index = ['Gaussian Naive Bayes with PCA','Gaussian Naive Bayes with SelectKBest','Decision Tree with PCA', 'Decision Tree with SelectKBest'])"
   ]
  },
  {
   "cell_type": "markdown",
   "metadata": {},
   "source": [
    "Validation is the process that tests if the model works well. One classic mistake is over-fitting. It means the model has a high variance and pays too much attention to data. Since it is very perceptive to data，it does not work well on the test data and produces much higher error on test data than on training data.\n",
    "\n",
    "### The best performer is Gaussian Naive Bayes Classifer."
   ]
  },
  {
   "cell_type": "code",
   "execution_count": 162,
   "metadata": {},
   "outputs": [
    {
     "name": "stdout",
     "output_type": "stream",
     "text": [
      "Bar plot of the feature scores:\n"
     ]
    },
    {
     "data": {
      "image/png": "[encoded data removed]",
      "text/plain": [
       "<matplotlib.figure.Figure at 0x11952ea90>"
      ]
     },
     "metadata": {},
     "output_type": "display_data"
    }
   ],
   "source": [
    "### Get the features and scores\n",
    "f_list=list(clf_nb_k.named_steps['reduce_dim'].get_support())\n",
    "f_score=list(clf_nb_k.named_steps['reduce_dim'].scores_)\n",
    "\n",
    "fea_list = list(enron.columns[1:])\n",
    "\n",
    "### print the bar graph\n",
    "print 'Bar plot of the feature scores:'\n",
    "f_s=zip(fea_list,f_score)\n",
    "f_s=sorted(f_s, key=lambda x:x[1], reverse=True)\n",
    "f,s = zip(*f_s)\n",
    "plt.bar(range(len(f)),s,tick_label=f)\n",
    "plt.xticks(rotation=90)\n",
    "plt.xlabel('Feature')\n",
    "plt.ylabel('Score')\n",
    "plt.show()"
   ]
  },
  {
   "cell_type": "markdown",
   "metadata": {},
   "source": [
    "The score for feature 'bonus' is the most one feature among the all, followed by 'salary', 'total_finance' and 'total_stock_value'. It makes sense since the aim of POI in the enron fraud is to gain their finanical benefits. Of course these POI would make more money than those non-POI.\n",
    "\n",
    "In the SelectKBest function in GridSearchCV, we feed the parameter k values: 3,4,5,...,9. GridSearchCV selects the best k based on the f1 score in the results. In this case, k equals to 5. It means five features are selected for Gaussian Naive Bayes Classifer. Their scores are:"
   ]
  },
  {
   "cell_type": "code",
   "execution_count": 163,
   "metadata": {},
   "outputs": [
    {
     "name": "stdout",
     "output_type": "stream",
     "text": [
      "Choosed Features Score\n",
      "salary 15.8060900874\n",
      "bonus 30.6522823057\n",
      "total_stock_value 10.814634863\n",
      "shared_receipt_with_poi 10.6697373596\n",
      "total_finance 10.8731272524\n"
     ]
    }
   ],
   "source": [
    "for i, fea,s in zip(f_list,fea_list,f_score):\n",
    "    if i:\n",
    "        print fea, s"
   ]
  },
  {
   "cell_type": "code",
   "execution_count": 164,
   "metadata": {
    "collapsed": true
   },
   "outputs": [],
   "source": [
    "### Dump the classifier, dataset, and features_list for review by Udacity\n",
    "tester.dump_classifier_and_data(clf_nb_k, my_dataset, features_list)"
   ]
  },
  {
   "cell_type": "code",
   "execution_count": 165,
   "metadata": {},
   "outputs": [
    {
     "data": {
      "text/plain": [
       "['poi',\n",
       " 'salary',\n",
       " 'bonus',\n",
       " 'deferral_payments',\n",
       " 'deferred_income',\n",
       " 'director_fees',\n",
       " 'expenses',\n",
       " 'loan_advances',\n",
       " 'long_term_incentive',\n",
       " 'other',\n",
       " 'total_payments',\n",
       " 'restricted_stock',\n",
       " 'restricted_stock_deferred',\n",
       " 'exercised_stock_options',\n",
       " 'total_stock_value',\n",
       " 'to_messages',\n",
       " 'from_messages',\n",
       " 'shared_receipt_with_poi',\n",
       " 'from_poi_to_this_person',\n",
       " 'from_this_person_to_poi',\n",
       " 'total_finance',\n",
       " 'p_poi_to_msg',\n",
       " 'p_poi_from_msg']"
      ]
     },
     "execution_count": 165,
     "metadata": {},
     "output_type": "execute_result"
    }
   ],
   "source": [
    "features_list"
   ]
  }
 ],
 "metadata": {
  "kernelspec": {
   "display_name": "Python [conda env:py2]",
   "language": "python",
   "name": "conda-env-py2-py"
  },
  "language_info": {
   "codemirror_mode": {
    "name": "ipython",
    "version": 2
   },
   "file_extension": ".py",
   "mimetype": "text/x-python",
   "name": "python",
   "nbconvert_exporter": "python",
   "pygments_lexer": "ipython2",
   "version": "2.7.13"
  }
 },
 "nbformat": 4,
 "nbformat_minor": 2
}
